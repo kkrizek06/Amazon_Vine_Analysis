{
  "nbformat": 4,
  "nbformat_minor": 0,
  "metadata": {
    "colab": {
      "name": "vine_review_analysis.ipynb",
      "provenance": [],
      "authorship_tag": "ABX9TyN4KsSMi0+Ub/awm5odS2EP",
      "include_colab_link": true
    },
    "kernelspec": {
      "name": "python3",
      "display_name": "Python 3"
    },
    "language_info": {
      "name": "python"
    }
  },
  "cells": [
    {
      "cell_type": "markdown",
      "metadata": {
        "id": "view-in-github",
        "colab_type": "text"
      },
      "source": [
        "<a href=\"https://colab.research.google.com/github/kkrizek06/Amazon_Vine_Analysis/blob/main/vine_review_analysis.ipynb\" target=\"_parent\"><img src=\"https://colab.research.google.com/assets/colab-badge.svg\" alt=\"Open In Colab\"/></a>"
      ]
    },
    {
      "cell_type": "code",
      "execution_count": 1,
      "metadata": {
        "colab": {
          "base_uri": "https://localhost:8080/"
        },
        "id": "kunY0imE7rz7",
        "outputId": "616116b8-ba47-4dc3-dbe4-d03393b0e4b0"
      },
      "outputs": [
        {
          "output_type": "stream",
          "name": "stdout",
          "text": [
            "Get:1 https://cloud.r-project.org/bin/linux/ubuntu bionic-cran40/ InRelease [3,626 B]\n",
            "Ign:2 https://developer.download.nvidia.com/compute/cuda/repos/ubuntu1804/x86_64  InRelease\n",
            "Hit:3 http://archive.ubuntu.com/ubuntu bionic InRelease\n",
            "Get:4 http://security.ubuntu.com/ubuntu bionic-security InRelease [88.7 kB]\n",
            "Ign:5 https://developer.download.nvidia.com/compute/machine-learning/repos/ubuntu1804/x86_64  InRelease\n",
            "Hit:6 https://developer.download.nvidia.com/compute/cuda/repos/ubuntu1804/x86_64  Release\n",
            "Hit:7 https://developer.download.nvidia.com/compute/machine-learning/repos/ubuntu1804/x86_64  Release\n",
            "Get:8 http://archive.ubuntu.com/ubuntu bionic-updates InRelease [88.7 kB]\n",
            "Get:9 http://ppa.launchpad.net/c2d4u.team/c2d4u4.0+/ubuntu bionic InRelease [15.9 kB]\n",
            "Get:10 http://archive.ubuntu.com/ubuntu bionic-backports InRelease [74.6 kB]\n",
            "Hit:11 http://ppa.launchpad.net/cran/libgit2/ubuntu bionic InRelease\n",
            "Get:12 http://ppa.launchpad.net/deadsnakes/ppa/ubuntu bionic InRelease [15.9 kB]\n",
            "Hit:14 http://ppa.launchpad.net/graphics-drivers/ppa/ubuntu bionic InRelease\n",
            "Get:16 http://archive.ubuntu.com/ubuntu bionic-updates/main amd64 Packages [3,165 kB]\n",
            "Get:17 http://archive.ubuntu.com/ubuntu bionic-updates/restricted amd64 Packages [941 kB]\n",
            "Get:18 http://archive.ubuntu.com/ubuntu bionic-updates/universe amd64 Packages [2,272 kB]\n",
            "Get:19 http://ppa.launchpad.net/c2d4u.team/c2d4u4.0+/ubuntu bionic/main Sources [1,950 kB]\n",
            "Get:20 http://ppa.launchpad.net/c2d4u.team/c2d4u4.0+/ubuntu bionic/main amd64 Packages [999 kB]\n",
            "Get:21 http://security.ubuntu.com/ubuntu bionic-security/main amd64 Packages [2,728 kB]\n",
            "Get:22 http://security.ubuntu.com/ubuntu bionic-security/restricted amd64 Packages [907 kB]\n",
            "Get:23 http://security.ubuntu.com/ubuntu bionic-security/universe amd64 Packages [1,496 kB]\n",
            "Get:24 http://ppa.launchpad.net/deadsnakes/ppa/ubuntu bionic/main amd64 Packages [45.3 kB]\n",
            "Fetched 14.8 MB in 7s (2,169 kB/s)\n",
            "Reading package lists... Done\n"
          ]
        }
      ],
      "source": [
        "import os\n",
        "# Find the latest version of spark 3.0 from http://www.apache.org/dist/spark/ and enter as the spark version\n",
        "# For example:\n",
        "# spark_version = 'spark-3.0.3'\n",
        "spark_version = 'spark-3.0.3'\n",
        "os.environ['SPARK_VERSION']=spark_version\n",
        "\n",
        "# Install Spark and Java\n",
        "!apt-get update\n",
        "!apt-get install openjdk-11-jdk-headless -qq > /dev/null\n",
        "!wget -q http://www.apache.org/dist/spark/$SPARK_VERSION/$SPARK_VERSION-bin-hadoop2.7.tgz\n",
        "!tar xf $SPARK_VERSION-bin-hadoop2.7.tgz\n",
        "!pip install -q findspark\n",
        "\n",
        "# Set Environment Variables\n",
        "import os\n",
        "os.environ[\"JAVA_HOME\"] = \"/usr/lib/jvm/java-11-openjdk-amd64\"\n",
        "os.environ[\"SPARK_HOME\"] = f\"/content/{spark_version}-bin-hadoop2.7\"\n",
        "\n",
        "# Start a SparkSession\n",
        "import findspark\n",
        "findspark.init()"
      ]
    },
    {
      "cell_type": "code",
      "source": [
        "from pyspark.sql import SparkSession\n",
        "spark = SparkSession.builder.appName(\"M16-Amazon-Challenge\").config(\"spark.driver.extraClassPath\",\"/content/postgresql-42.2.16.jar\").getOrCreate()"
      ],
      "metadata": {
        "id": "1SrsFMGR8utD"
      },
      "execution_count": 2,
      "outputs": []
    },
    {
      "cell_type": "code",
      "source": [
        "from pyspark import SparkFiles\n",
        "url = \"https://s3.amazonaws.com/amazon-reviews-pds/tsv/amazon_reviews_us_Video_DVD_v1_00.tsv.gz\"\n",
        "spark.sparkContext.addFile(url)\n",
        "df = spark.read.option(\"encoding\", \"UTF-8\").csv(SparkFiles.get(\"\"), sep=\"\\t\", header=True, inferSchema=True)\n",
        "df.show(10)"
      ],
      "metadata": {
        "colab": {
          "base_uri": "https://localhost:8080/"
        },
        "id": "RyVmqXDq82q5",
        "outputId": "5f9ececb-a75e-4261-8b37-6b2c00f1e4e3"
      },
      "execution_count": 3,
      "outputs": [
        {
          "output_type": "stream",
          "name": "stdout",
          "text": [
            "+-----------+-----------+--------------+----------+--------------+--------------------+----------------+-----------+-------------+-----------+----+-----------------+--------------------+--------------------+-----------+\n",
            "|marketplace|customer_id|     review_id|product_id|product_parent|       product_title|product_category|star_rating|helpful_votes|total_votes|vine|verified_purchase|     review_headline|         review_body|review_date|\n",
            "+-----------+-----------+--------------+----------+--------------+--------------------+----------------+-----------+-------------+-----------+----+-----------------+--------------------+--------------------+-----------+\n",
            "|         US|   27288431| R33UPQQUZQEM8|B005T4ND06|     400024643|Yoga for Movement...|       Video DVD|          5|            3|          3|   N|                Y|This was a gift f...|This was a gift f...| 2015-08-31|\n",
            "|         US|   13722556|R3IKTNQQPD9662|B004EPZ070|     685335564|  Something Borrowed|       Video DVD|          5|            0|          0|   N|                Y|          Five Stars| Teats my heart out.| 2015-08-31|\n",
            "|         US|   20381037|R3U27V5QMCP27T|B005S9EKCW|     922008804|Les Miserables (2...|       Video DVD|          5|            1|          1|   N|                Y|        Great movie!|        Great movie.| 2015-08-31|\n",
            "|         US|   24852644|R2TOH2QKNK4IOC|B00FC1ZCB4|     326560548|Alien Anthology a...|       Video DVD|          5|            0|          1|   N|                Y|             Amazing|My husband was so...| 2015-08-31|\n",
            "|         US|   15556113|R2XQG5NJ59UFMY|B002ZG98Z0|     637495038|  Sex and the City 2|       Video DVD|          5|            0|          0|   N|                Y|          Five Stars|   Love this series.| 2015-08-31|\n",
            "|         US|    6132474|R1N1KHBRR4ZTX3|B00X8RONBO|     896602391|When Calls The He...|       Video DVD|          5|            0|          0|   N|                Y|          Five Stars|            love it!| 2015-08-31|\n",
            "|         US|   48049524|R3OM9S0TCBP38K|B000CEXFZG|     115883890|Teen Titans - The...|       Video DVD|          5|            0|          0|   N|                Y|               Great|Better than the c...| 2015-08-31|\n",
            "|         US|    3282516|R1W4S949ZRCTBW|B00ID8H8EW|     977932459|      Generation War|       Video DVD|          5|            0|          0|   N|                Y|          Five Stars|I really emjoyed ...| 2015-08-31|\n",
            "|         US|   51771179|R18JL1NNQAZFV2|B000TGJ8IU|     840084782|Troy  (Director's...|       Video DVD|          5|            0|          0|   N|                Y|          Five Stars|Awesome movie, we...| 2015-08-31|\n",
            "|         US|   31816501|R1LP6PR06OPYUX|B00DPMPTDS|     262144920|Faith Aka the Gre...|       Video DVD|          4|            0|          0|   N|                Y|a beautiful fanta...|...a beautiful fa...| 2015-08-31|\n",
            "+-----------+-----------+--------------+----------+--------------+--------------------+----------------+-----------+-------------+-----------+----+-----------------+--------------------+--------------------+-----------+\n",
            "only showing top 10 rows\n",
            "\n"
          ]
        }
      ]
    },
    {
      "cell_type": "code",
      "source": [
        "# Create the vine_table. DataFrame\n",
        "vine_df = df.select([\"review_id\",\"star_rating\",\"helpful_votes\",\"total_votes\",\"vine\",\"verified_purchase\"])\n",
        "vine_df.show(10)"
      ],
      "metadata": {
        "colab": {
          "base_uri": "https://localhost:8080/"
        },
        "id": "HtB-As9kEWqJ",
        "outputId": "5824e8b2-5cf4-4894-d05e-a352262aee47"
      },
      "execution_count": 4,
      "outputs": [
        {
          "output_type": "stream",
          "name": "stdout",
          "text": [
            "+--------------+-----------+-------------+-----------+----+-----------------+\n",
            "|     review_id|star_rating|helpful_votes|total_votes|vine|verified_purchase|\n",
            "+--------------+-----------+-------------+-----------+----+-----------------+\n",
            "| R33UPQQUZQEM8|          5|            3|          3|   N|                Y|\n",
            "|R3IKTNQQPD9662|          5|            0|          0|   N|                Y|\n",
            "|R3U27V5QMCP27T|          5|            1|          1|   N|                Y|\n",
            "|R2TOH2QKNK4IOC|          5|            0|          1|   N|                Y|\n",
            "|R2XQG5NJ59UFMY|          5|            0|          0|   N|                Y|\n",
            "|R1N1KHBRR4ZTX3|          5|            0|          0|   N|                Y|\n",
            "|R3OM9S0TCBP38K|          5|            0|          0|   N|                Y|\n",
            "|R1W4S949ZRCTBW|          5|            0|          0|   N|                Y|\n",
            "|R18JL1NNQAZFV2|          5|            0|          0|   N|                Y|\n",
            "|R1LP6PR06OPYUX|          4|            0|          0|   N|                Y|\n",
            "+--------------+-----------+-------------+-----------+----+-----------------+\n",
            "only showing top 10 rows\n",
            "\n"
          ]
        }
      ]
    },
    {
      "cell_type": "code",
      "execution_count": 5,
      "metadata": {
        "colab": {
          "base_uri": "https://localhost:8080/"
        },
        "id": "hgnSdahEPnVl",
        "outputId": "5d7f7b21-7127-43ff-c52a-d748529d9207"
      },
      "outputs": [
        {
          "output_type": "stream",
          "name": "stdout",
          "text": [
            "+-----------+-----------+--------------+----------+--------------+--------------------+----------------+-----------+-------------+-----------+----+-----------------+--------------------+--------------------+-----------+\n",
            "|marketplace|customer_id|     review_id|product_id|product_parent|       product_title|product_category|star_rating|helpful_votes|total_votes|vine|verified_purchase|     review_headline|         review_body|review_date|\n",
            "+-----------+-----------+--------------+----------+--------------+--------------------+----------------+-----------+-------------+-----------+----+-----------------+--------------------+--------------------+-----------+\n",
            "|         US|   44783596|R31EUR60FV3BU5|B00ZGPZR9I|     514136181|  Wodehouse in Exile|       Video DVD|          4|           32|         39|   N|                N|Unfair Accusation...|Amazed after Wode...| 2015-08-31|\n",
            "|         US|   20714119|R12Q1NO1HI9PP4|B00XUV1B4U|     881344665|Mad Max Anthology...|       Video DVD|          1|            4|         86|   N|                N|            One Star|IF it's not a 4K ...| 2015-08-31|\n",
            "|         US|   12720421|R3MDX24QDAT0OW|B00ZCHTQGA|     779817400|Northmen - A Viki...|       Video DVD|          4|           35|         37|   N|                N|I wont steer you ...|Do not watch this...| 2015-08-31|\n",
            "|         US|    6402628|R2YVFZB4ESDT7D|B00XUV1B4U|     881344665|Mad Max Anthology...|       Video DVD|          5|          139|        141|   N|                Y|All Four Movies R...|Here's what you'r...| 2015-08-31|\n",
            "|         US|   13248802| R6TNONSNFM82I|B00KXEM6XM|     651533797|     Fargo: Season 1|       Video DVD|          1|            0|         28|   N|                Y|      Dvd freeze up.|Series is first r...| 2015-08-31|\n",
            "|         US|   12160741|R2R8EWH1JUZCSI|B014LIIXZ0|     674775405|War Room (Blu-ray...|       Video DVD|          5|           16|         21|   N|                N|This is a must ha...|An amazing movie ...| 2015-08-31|\n",
            "|         US|   48661793| RUNB838XKMB59|B00ZR3W3YQ|     822214008|Universal Classic...|       Video DVD|          1|            8|         23|   N|                N|The Same Films Ag...|How many times is...| 2015-08-31|\n",
            "|         US|   37255383|R3I8GORXGEJL3R|B014GDAVLE|     326486182|           No Escape|       Video DVD|          4|           95|        103|   N|                Y|Owen Lives To Not...|People forget tha...| 2015-08-31|\n",
            "|         US|   10725794|R2WFUSIPJ3X0FR|B013F4U82M|     623104816|Toy Story that Ti...|       Video DVD|          1|            9|         53|   N|                N|  Disney, just STOP.|Pixar really jump...| 2015-08-31|\n",
            "|         US|   44167709| RONWXF0J85CRR|B011MUA5J2|     274516834|Mission: Impossib...|       Video DVD|          5|           42|         50|   N|                N|Original Mission ...|Mission: Impossib...| 2015-08-31|\n",
            "+-----------+-----------+--------------+----------+--------------+--------------------+----------------+-----------+-------------+-----------+----+-----------------+--------------------+--------------------+-----------+\n",
            "only showing top 10 rows\n",
            "\n"
          ]
        }
      ],
      "source": [
        "vote_df = df.filter(df.total_votes >= 20)\n",
        "vote_df.show(10)"
      ]
    },
    {
      "cell_type": "code",
      "source": [
        "new_df = vote_df.filter((vote_df.helpful_votes / vote_df.total_votes) *100 >= 50)\n",
        "new_df.show(10)"
      ],
      "metadata": {
        "colab": {
          "base_uri": "https://localhost:8080/"
        },
        "id": "F3-WSgxORlfm",
        "outputId": "b0f8dde2-aab8-43fb-f96c-c72b39b5e62d"
      },
      "execution_count": 6,
      "outputs": [
        {
          "output_type": "stream",
          "name": "stdout",
          "text": [
            "+-----------+-----------+--------------+----------+--------------+--------------------+----------------+-----------+-------------+-----------+----+-----------------+--------------------+--------------------+-----------+\n",
            "|marketplace|customer_id|     review_id|product_id|product_parent|       product_title|product_category|star_rating|helpful_votes|total_votes|vine|verified_purchase|     review_headline|         review_body|review_date|\n",
            "+-----------+-----------+--------------+----------+--------------+--------------------+----------------+-----------+-------------+-----------+----+-----------------+--------------------+--------------------+-----------+\n",
            "|         US|   44783596|R31EUR60FV3BU5|B00ZGPZR9I|     514136181|  Wodehouse in Exile|       Video DVD|          4|           32|         39|   N|                N|Unfair Accusation...|Amazed after Wode...| 2015-08-31|\n",
            "|         US|   12720421|R3MDX24QDAT0OW|B00ZCHTQGA|     779817400|Northmen - A Viki...|       Video DVD|          4|           35|         37|   N|                N|I wont steer you ...|Do not watch this...| 2015-08-31|\n",
            "|         US|    6402628|R2YVFZB4ESDT7D|B00XUV1B4U|     881344665|Mad Max Anthology...|       Video DVD|          5|          139|        141|   N|                Y|All Four Movies R...|Here's what you'r...| 2015-08-31|\n",
            "|         US|   12160741|R2R8EWH1JUZCSI|B014LIIXZ0|     674775405|War Room (Blu-ray...|       Video DVD|          5|           16|         21|   N|                N|This is a must ha...|An amazing movie ...| 2015-08-31|\n",
            "|         US|   37255383|R3I8GORXGEJL3R|B014GDAVLE|     326486182|           No Escape|       Video DVD|          4|           95|        103|   N|                Y|Owen Lives To Not...|People forget tha...| 2015-08-31|\n",
            "|         US|   44167709| RONWXF0J85CRR|B011MUA5J2|     274516834|Mission: Impossib...|       Video DVD|          5|           42|         50|   N|                N|Original Mission ...|Mission: Impossib...| 2015-08-31|\n",
            "|         US|   46318293|R2QQJIJZIUSQBH|B012O29DR2|     690183613|Little House On T...|       Video DVD|          1|           16|         20|   N|                N|No blu-ray   No p...|I will not purcha...| 2015-08-31|\n",
            "|         US|   38379823|R3O7T74HRIXBE5|B00XOAPFH6|     814178366|Sherlock Holmes (...|       Video DVD|          5|           53|         55|   N|                Y|LOST AND FOUND re...|I have assembled ...| 2015-08-31|\n",
            "|         US|   10415926| RSU37FK0W4DPE|B0112HPTCI|     846758128|           Boulevard|       Video DVD|          4|           26|         28|   N|                N|Very poetic that ...|&#34;Sometimes it...| 2015-08-31|\n",
            "|         US|   28573806|R22H100N6EUD0Y|B00ZGIOL8I|     983780520|Hammer Film Colle...|       Video DVD|          5|           30|         32|   N|                Y|Excellent studio ...|Excellent studio ...| 2015-08-30|\n",
            "+-----------+-----------+--------------+----------+--------------+--------------------+----------------+-----------+-------------+-----------+----+-----------------+--------------------+--------------------+-----------+\n",
            "only showing top 10 rows\n",
            "\n"
          ]
        }
      ]
    },
    {
      "cell_type": "code",
      "source": [
        "Y_df = new_df.filter(new_df.vine =='Y')\n",
        "Y_df.show(10)"
      ],
      "metadata": {
        "colab": {
          "base_uri": "https://localhost:8080/"
        },
        "id": "c8HLSH5ASYPG",
        "outputId": "1bd5425d-539d-4649-b177-57b02cf083b3"
      },
      "execution_count": 7,
      "outputs": [
        {
          "output_type": "stream",
          "name": "stdout",
          "text": [
            "+-----------+-----------+--------------+----------+--------------+--------------------+----------------+-----------+-------------+-----------+----+-----------------+--------------------+--------------------+-----------+\n",
            "|marketplace|customer_id|     review_id|product_id|product_parent|       product_title|product_category|star_rating|helpful_votes|total_votes|vine|verified_purchase|     review_headline|         review_body|review_date|\n",
            "+-----------+-----------+--------------+----------+--------------+--------------------+----------------+-----------+-------------+-----------+----+-----------------+--------------------+--------------------+-----------+\n",
            "|         US|   27249597|R3PBQ665MBL8CP|B00E1LT41K|     592331046|The White Queen: ...|       Video DVD|          3|           66|         72|   Y|                N|An enjoyable watc...|I enjoyed this TV...| 2014-03-27|\n",
            "|         US|   37876368|R3EMD30K7MNOZ0|B00A27OMKU|     678954891|Shiva Rea: Yoga i...|       Video DVD|          2|           20|         25|   Y|                N|I ended up doing ...|I consider myself...| 2014-03-05|\n",
            "|         US|   49251765|R2GF3ZLO2B0Y71|B00FEHCR1E|     769938939|Element: Barre Co...|       Video DVD|          5|          236|        243|   Y|                N|A fun workout I l...|I won't review a ...| 2014-02-18|\n",
            "|         US|   18039745|R1F8T2Z7U3N6HL|B00E1LR2B4|     419560728|20 Feet from Stardom|       Video DVD|          3|           11|         20|   Y|                N|Very Interesting,...|This is a hard re...| 2014-02-02|\n",
            "|         US|   49332535| R5QTOT1GVR8RG|B00E8A0OZ4|     474546272|Element: Targeted...|       Video DVD|          4|           16|         20|   Y|                N|You'll Feel the Burn|This Pilates prog...| 2013-12-12|\n",
            "|         US|   51664778|R1KAQEESF0NUGV|B009AJB0YM|     901937989|            10 Years|       Video DVD|          4|           27|         29|   Y|                N|Very realistic re...|Have you been to ...| 2013-01-04|\n",
            "|         US|   29471115|R1621B9AMVWI25|B005GYXNT0|     599791357|AGELESS WITH KATH...|       Video DVD|          2|           27|         29|   Y|                N|       For Beginners|I think this work...| 2012-06-19|\n",
            "|         US|   49253523|R3FVGQVNBAZL8E|B0059XTUR2|      15783541|          Coriolanus|       Video DVD|          3|           37|         44|   Y|                N|  Modern Shakespeare|Ralph Fiennes dir...| 2012-05-29|\n",
            "|         US|   11936223|R26ATTA765WHVX|B004UXUUDA|     776655951|         Sarah's Key|       Video DVD|          5|           21|         23|   Y|                N|Dark Moment in Fr...|.<br /><br />A se...| 2011-12-14|\n",
            "|         US|   27826858| RMZYPFKES1ZK7|B004UXUWEC|      52053011|   Our Idiot Brother|       Video DVD|          4|           29|         33|   Y|                N|Great stuff... ev...|Paul Rudd's very ...| 2011-12-07|\n",
            "+-----------+-----------+--------------+----------+--------------+--------------------+----------------+-----------+-------------+-----------+----+-----------------+--------------------+--------------------+-----------+\n",
            "only showing top 10 rows\n",
            "\n"
          ]
        }
      ]
    },
    {
      "cell_type": "code",
      "source": [
        "N_df = new_df.filter(new_df.vine =='N')\n",
        "N_df.show(10)"
      ],
      "metadata": {
        "colab": {
          "base_uri": "https://localhost:8080/"
        },
        "outputId": "c73c4411-00aa-4eef-9b72-7b96573d9904",
        "id": "4CzoUs5MS8YL"
      },
      "execution_count": 8,
      "outputs": [
        {
          "output_type": "stream",
          "name": "stdout",
          "text": [
            "+-----------+-----------+--------------+----------+--------------+--------------------+----------------+-----------+-------------+-----------+----+-----------------+--------------------+--------------------+-----------+\n",
            "|marketplace|customer_id|     review_id|product_id|product_parent|       product_title|product_category|star_rating|helpful_votes|total_votes|vine|verified_purchase|     review_headline|         review_body|review_date|\n",
            "+-----------+-----------+--------------+----------+--------------+--------------------+----------------+-----------+-------------+-----------+----+-----------------+--------------------+--------------------+-----------+\n",
            "|         US|   44783596|R31EUR60FV3BU5|B00ZGPZR9I|     514136181|  Wodehouse in Exile|       Video DVD|          4|           32|         39|   N|                N|Unfair Accusation...|Amazed after Wode...| 2015-08-31|\n",
            "|         US|   12720421|R3MDX24QDAT0OW|B00ZCHTQGA|     779817400|Northmen - A Viki...|       Video DVD|          4|           35|         37|   N|                N|I wont steer you ...|Do not watch this...| 2015-08-31|\n",
            "|         US|    6402628|R2YVFZB4ESDT7D|B00XUV1B4U|     881344665|Mad Max Anthology...|       Video DVD|          5|          139|        141|   N|                Y|All Four Movies R...|Here's what you'r...| 2015-08-31|\n",
            "|         US|   12160741|R2R8EWH1JUZCSI|B014LIIXZ0|     674775405|War Room (Blu-ray...|       Video DVD|          5|           16|         21|   N|                N|This is a must ha...|An amazing movie ...| 2015-08-31|\n",
            "|         US|   37255383|R3I8GORXGEJL3R|B014GDAVLE|     326486182|           No Escape|       Video DVD|          4|           95|        103|   N|                Y|Owen Lives To Not...|People forget tha...| 2015-08-31|\n",
            "|         US|   44167709| RONWXF0J85CRR|B011MUA5J2|     274516834|Mission: Impossib...|       Video DVD|          5|           42|         50|   N|                N|Original Mission ...|Mission: Impossib...| 2015-08-31|\n",
            "|         US|   46318293|R2QQJIJZIUSQBH|B012O29DR2|     690183613|Little House On T...|       Video DVD|          1|           16|         20|   N|                N|No blu-ray   No p...|I will not purcha...| 2015-08-31|\n",
            "|         US|   38379823|R3O7T74HRIXBE5|B00XOAPFH6|     814178366|Sherlock Holmes (...|       Video DVD|          5|           53|         55|   N|                Y|LOST AND FOUND re...|I have assembled ...| 2015-08-31|\n",
            "|         US|   10415926| RSU37FK0W4DPE|B0112HPTCI|     846758128|           Boulevard|       Video DVD|          4|           26|         28|   N|                N|Very poetic that ...|&#34;Sometimes it...| 2015-08-31|\n",
            "|         US|   28573806|R22H100N6EUD0Y|B00ZGIOL8I|     983780520|Hammer Film Colle...|       Video DVD|          5|           30|         32|   N|                Y|Excellent studio ...|Excellent studio ...| 2015-08-30|\n",
            "+-----------+-----------+--------------+----------+--------------+--------------------+----------------+-----------+-------------+-----------+----+-----------------+--------------------+--------------------+-----------+\n",
            "only showing top 10 rows\n",
            "\n"
          ]
        }
      ]
    },
    {
      "cell_type": "code",
      "source": [
        "totalY = Y_df.count()\n",
        "totalY\n"
      ],
      "metadata": {
        "colab": {
          "base_uri": "https://localhost:8080/"
        },
        "id": "7R1BFXK2S3hj",
        "outputId": "4da65375-5e6c-498f-f7fe-104602176ab0"
      },
      "execution_count": 20,
      "outputs": [
        {
          "output_type": "execute_result",
          "data": {
            "text/plain": [
              "49"
            ]
          },
          "metadata": {},
          "execution_count": 20
        }
      ]
    },
    {
      "cell_type": "code",
      "source": [
        "Yfive_star = Y_df.filter(Y_df.star_rating == 5).count()\n",
        "Yfive_star\n"
      ],
      "metadata": {
        "colab": {
          "base_uri": "https://localhost:8080/"
        },
        "outputId": "c5d3a84a-19a1-45b5-ba8b-e8ef10b3d415",
        "id": "MbIvSrsZW_PF"
      },
      "execution_count": 21,
      "outputs": [
        {
          "output_type": "execute_result",
          "data": {
            "text/plain": [
              "9"
            ]
          },
          "metadata": {},
          "execution_count": 21
        }
      ]
    },
    {
      "cell_type": "code",
      "source": [
        "Yfive_star_percent = (Yfive_star / totalY) *100\n",
        "Yfive_star_percent"
      ],
      "metadata": {
        "colab": {
          "base_uri": "https://localhost:8080/"
        },
        "outputId": "813dbc11-bfa4-4f7a-8fe7-63eecfed4a5f",
        "id": "BGXm5p7eXCuZ"
      },
      "execution_count": 22,
      "outputs": [
        {
          "output_type": "execute_result",
          "data": {
            "text/plain": [
              "18.367346938775512"
            ]
          },
          "metadata": {},
          "execution_count": 22
        }
      ]
    },
    {
      "cell_type": "code",
      "source": [
        "totalN = N_df.count()\n",
        "totalN\n"
      ],
      "metadata": {
        "colab": {
          "base_uri": "https://localhost:8080/"
        },
        "outputId": "1df18c5a-b213-454c-a164-d1320ee55462",
        "id": "byebugzEXRrp"
      },
      "execution_count": 23,
      "outputs": [
        {
          "output_type": "execute_result",
          "data": {
            "text/plain": [
              "151400"
            ]
          },
          "metadata": {},
          "execution_count": 23
        }
      ]
    },
    {
      "cell_type": "code",
      "source": [
        "Nfive_star = N_df.filter(N_df.star_rating == 5).count()\n",
        "Nfive_star"
      ],
      "metadata": {
        "colab": {
          "base_uri": "https://localhost:8080/"
        },
        "outputId": "00d0aa9c-62d9-4cfc-93bb-10096ddaa8d1",
        "id": "CdDp5KddXQvr"
      },
      "execution_count": 24,
      "outputs": [
        {
          "output_type": "execute_result",
          "data": {
            "text/plain": [
              "78061"
            ]
          },
          "metadata": {},
          "execution_count": 24
        }
      ]
    },
    {
      "cell_type": "code",
      "source": [
        "Nfive_star_percent = (Nfive_star / totalN) *100\n",
        "Nfive_star_percent"
      ],
      "metadata": {
        "colab": {
          "base_uri": "https://localhost:8080/"
        },
        "outputId": "01d8ce37-ad20-47ea-e377-e1e5488b8f07",
        "id": "vC3b-V63WDhb"
      },
      "execution_count": 25,
      "outputs": [
        {
          "output_type": "execute_result",
          "data": {
            "text/plain": [
              "51.55944517833554"
            ]
          },
          "metadata": {},
          "execution_count": 25
        }
      ]
    },
    {
      "cell_type": "code",
      "source": [
        ""
      ],
      "metadata": {
        "id": "lwY-aoshWBzc"
      },
      "execution_count": null,
      "outputs": []
    }
  ]
}